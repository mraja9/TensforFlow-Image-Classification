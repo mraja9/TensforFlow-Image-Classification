{
 "cells": [
  {
   "cell_type": "markdown",
   "metadata": {
    "collapsed": true
   },
   "source": [
    "# Image Classification\n",
    "In this project, images from the [CIFAR-10 dataset](https://www.cs.toronto.edu/~kriz/cifar.html) will be classified.  The dataset consists of airplanes, dogs, cats, and other objects. We will preprocess the images, then train a convolutional neural network on all the samples. The images need to be normalized and the labels need to be one-hot encoded.  The network will contain convolutional, max pooling, dropout, and fully connected layers.  At the end, we will get to see the neural network's predictions on the sample images. This project was submitted as part of Udacity's Deep Learning coursework.\n",
    "## Get the Data\n",
    "Run the following cell to download the [CIFAR-10 dataset for python](https://www.cs.toronto.edu/~kriz/cifar-10-python.tar.gz)."
   ]
  },
  {
   "cell_type": "code",
   "execution_count": 3,
   "metadata": {},
   "outputs": [
    {
     "name": "stdout",
     "output_type": "stream",
     "text": [
      "Collecting tqdm\n",
      "  Downloading tqdm-4.14.0-py2.py3-none-any.whl (46kB)\n",
      "\u001b[K    100% |████████████████████████████████| 51kB 66kB/s ta 0:00:01\n",
      "\u001b[?25hInstalling collected packages: tqdm\n",
      "Successfully installed tqdm-4.14.0\n"
     ]
    }
   ],
   "source": [
    "# Install required libraries and dependancies\n",
    "# Create new conda env with python 3.5 (compatible with tensorflow) ---> conda create -n py35 python=3.5 anaconda\n",
    "# $source activate py35 \n",
    "# !pip install tensorflow\n",
    "!pip install tqdm"
   ]
  },
  {
   "cell_type": "code",
   "execution_count": 4,
   "metadata": {},
   "outputs": [
    {
     "name": "stderr",
     "output_type": "stream",
     "text": [
      "CIFAR-10 Dataset: 171MB [51:17, 55.4KB/s]                              \n"
     ]
    },
    {
     "name": "stdout",
     "output_type": "stream",
     "text": [
      "All files found!\n"
     ]
    }
   ],
   "source": [
    "from urllib.request import urlretrieve\n",
    "from os.path import isfile, isdir\n",
    "from tqdm import tqdm\n",
    "import problem_unittests as tests\n",
    "import tarfile\n",
    "\n",
    "cifar10_dataset_folder_path = 'cifar-10-batches-py'\n",
    "\n",
    "class DLProgress(tqdm):\n",
    "    last_block = 0\n",
    "\n",
    "    def hook(self, block_num=1, block_size=1, total_size=None):\n",
    "        self.total = total_size\n",
    "        self.update((block_num - self.last_block) * block_size)\n",
    "        self.last_block = block_num\n",
    "\n",
    "if not isfile('cifar-10-python.tar.gz'):\n",
    "    with DLProgress(unit='B', unit_scale=True, miniters=1, desc='CIFAR-10 Dataset') as pbar:\n",
    "        urlretrieve(\n",
    "            'https://www.cs.toronto.edu/~kriz/cifar-10-python.tar.gz',\n",
    "            'cifar-10-python.tar.gz',\n",
    "            pbar.hook)\n",
    "\n",
    "if not isdir(cifar10_dataset_folder_path):\n",
    "    with tarfile.open('cifar-10-python.tar.gz') as tar:\n",
    "        tar.extractall()\n",
    "        tar.close()\n",
    "\n",
    "\n",
    "tests.test_folder_path(cifar10_dataset_folder_path)"
   ]
  },
  {
   "cell_type": "markdown",
   "metadata": {},
   "source": [
    "## Explore the Data\n",
    "The dataset is broken into batches to prevent your machine from running out of memory.  The CIFAR-10 dataset consists of 5 batches, named `data_batch_1`, `data_batch_2`, etc.. Each batch contains the labels and images that are one of the following:\n",
    "* airplane\n",
    "* automobile\n",
    "* bird\n",
    "* cat\n",
    "* deer\n",
    "* dog\n",
    "* frog\n",
    "* horse\n",
    "* ship\n",
    "* truck\n",
    "\n",
    "Understanding a dataset is part of making predictions on the data. The `batch_id` is the id for a batch (1-5). The `sample_id` is the id for a image and label pair in the batch."
   ]
  },
  {
   "cell_type": "code",
   "execution_count": 5,
   "metadata": {},
   "outputs": [
    {
     "name": "stderr",
     "output_type": "stream",
     "text": [
      "/home/janaki/anaconda2/envs/py35/lib/python3.5/site-packages/matplotlib/font_manager.py:280: UserWarning: Matplotlib is building the font cache using fc-list. This may take a moment.\n",
      "  'Matplotlib is building the font cache using fc-list. '\n"
     ]
    },
    {
     "name": "stdout",
     "output_type": "stream",
     "text": [
      "\n",
      "Stats of batch 1:\n",
      "Samples: 10000\n",
      "Label Counts: {0: 1005, 1: 974, 2: 1032, 3: 1016, 4: 999, 5: 937, 6: 1030, 7: 1001, 8: 1025, 9: 981}\n",
      "First 20 Labels: [6, 9, 9, 4, 1, 1, 2, 7, 8, 3, 4, 7, 7, 2, 9, 9, 9, 3, 2, 6]\n",
      "\n",
      "Example of Image 5:\n",
      "Image - Min Value: 0 Max Value: 252\n",
      "Image - Shape: (32, 32, 3)\n",
      "Label - Label Id: 1 Name: automobile\n"
     ]
    },
    {
     "data": {
      "image/png": "[encoded data removed]",
      "text/plain": [
       "<matplotlib.figure.Figure at 0x7f717dcdf358>"
      ]
     },
     "metadata": {
      "image/png": {
       "height": 250,
       "width": 253
      }
     },
     "output_type": "display_data"
    }
   ],
   "source": [
    "%matplotlib inline\n",
    "%config InlineBackend.figure_format = 'retina'\n",
    "\n",
    "import helper\n",
    "import numpy as np\n",
    "\n",
    "# Explore the dataset\n",
    "batch_id = 1\n",
    "sample_id = 5\n",
    "helper.display_stats(cifar10_dataset_folder_path, batch_id, sample_id)"
   ]
  },
  {
   "cell_type": "markdown",
   "metadata": {},
   "source": [
    "## Implement Preprocess Functions\n",
    "### Normalize\n",
    "In the cell below, implement the `normalize` function to take in image data, `x`, and return it as a normalized Numpy array. The values should be in the range of 0 to 1, inclusive.  The return object should be the same shape as `x`."
   ]
  },
  {
   "cell_type": "code",
   "execution_count": 6,
   "metadata": {},
   "outputs": [
    {
     "name": "stdout",
     "output_type": "stream",
     "text": [
      "Tests Passed\n"
     ]
    }
   ],
   "source": [
    "def normalize(x):\n",
    "    \"\"\"\n",
    "    Normalize a list of sample image data in the range of 0 to 1\n",
    "    : x: List of image data.  The image shape is (32, 32, 3)\n",
    "    : return: Numpy array of normalize data\n",
    "    \"\"\"\n",
    "    x_min = 0      # Min pixel value\n",
    "    x_max = 255    # Max pixel value\n",
    "    normalized_x = np.array((x-x_min)/(x_max-x_min))   # Min-Max normalization\n",
    "    return normalized_x\n",
    "\n",
    "tests.test_normalize(normalize)"
   ]
  },
  {
   "cell_type": "markdown",
   "metadata": {},
   "source": [
    "### One-hot encode\n",
    "The input, `x`, are a list of labels.  The function will return the list of labels as One-Hot encoded Numpy array.  The possible values for labels are 0 to 9. The one-hot encoding function should return the same encoding for each value between each call to `one_hot_encode`."
   ]
  },
  {
   "cell_type": "code",
   "execution_count": 9,
   "metadata": {},
   "outputs": [
    {
     "data": {
      "text/plain": [
       "array([0, 1, 2, 3, 4, 5, 6, 7, 8, 9])"
      ]
     },
     "execution_count": 9,
     "metadata": {},
     "output_type": "execute_result"
    }
   ],
   "source": [
    "from sklearn.preprocessing import LabelBinarizer\n",
    "\n",
    "lb = LabelBinarizer()\n",
    "lb.fit(np.arange(0,10))\n",
    "lb.classes_"
   ]
  },
  {
   "cell_type": "code",
   "execution_count": 10,
   "metadata": {},
   "outputs": [
    {
     "name": "stdout",
     "output_type": "stream",
     "text": [
      "Tests Passed\n"
     ]
    }
   ],
   "source": [
    "def one_hot_encode(x):\n",
    "    \"\"\"\n",
    "    One hot encode a list of sample labels. Return a one-hot encoded vector for each label.\n",
    "    : x: List of sample Labels\n",
    "    : return: Numpy array of one-hot encoded labels\n",
    "    \"\"\"\n",
    "    transformed_x = lb.transform(x)\n",
    "    return transformed_x\n",
    "\n",
    "\n",
    "tests.test_one_hot_encode(one_hot_encode)"
   ]
  },
  {
   "cell_type": "markdown",
   "metadata": {},
   "source": [
    "### Randomize Data\n",
    "As you saw from exploring the data above, the order of the samples are randomized.  It doesn't hurt to randomize it again, but you don't need to for this dataset."
   ]
  },
  {
   "cell_type": "markdown",
   "metadata": {},
   "source": [
    "## Preprocess all the data and save it\n",
    "Running the code cell below will preprocess all the CIFAR-10 data and save it to file. The code below also uses 10% of the training data for validation."
   ]
  },
  {
   "cell_type": "code",
   "execution_count": 11,
   "metadata": {
    "collapsed": true
   },
   "outputs": [],
   "source": [
    "# Preprocess Training, Validation, and Testing Data\n",
    "helper.preprocess_and_save_data(cifar10_dataset_folder_path, normalize, one_hot_encode)"
   ]
  },
  {
   "cell_type": "markdown",
   "metadata": {},
   "source": [
    "# Check Point\n",
    "This is the first checkpoint. The preprocessed data has been saved to disk."
   ]
  },
  {
   "cell_type": "code",
   "execution_count": 1,
   "metadata": {
    "collapsed": true
   },
   "outputs": [],
   "source": [
    "import pickle\n",
    "import problem_unittests as tests\n",
    "import helper\n",
    "\n",
    "# Load the Preprocessed Validation data\n",
    "valid_features, valid_labels = pickle.load(open('preprocess_validation.p', mode='rb'))"
   ]
  },
  {
   "cell_type": "markdown",
   "metadata": {},
   "source": [
    "## Build the network\n",
    "For the neural network, let's build each layer into a function. To test the code more thoroughly, we will put each layer in a function.  \n",
    "\n",
    "### Input\n",
    "The neural network needs to read the image data, one-hot encoded labels, and dropout keep probability. Here are the functions we will be implementing\n",
    "* `neural_net_image_input`\n",
    " * Return a [TF Placeholder](https://www.tensorflow.org/api_docs/python/tf/placeholder)\n",
    " * Set the shape using `image_shape` with batch size set to `None`.\n",
    " * Name the TensorFlow placeholder \"x\" using the TensorFlow `name` parameter in the [TF Placeholder](https://www.tensorflow.org/api_docs/python/tf/placeholder).\n",
    "* `neural_net_label_input`\n",
    " * Return a [TF Placeholder](https://www.tensorflow.org/api_docs/python/tf/placeholder)\n",
    " * Set the shape using `n_classes` with batch size set to `None`.\n",
    " * Name the TensorFlow placeholder \"y\" using the TensorFlow `name` parameter in the [TF Placeholder](https://www.tensorflow.org/api_docs/python/tf/placeholder).\n",
    "* `neural_net_keep_prob_input`\n",
    " * Return a [TF Placeholder](https://www.tensorflow.org/api_docs/python/tf/placeholder) for dropout keep probability.\n",
    " * Name the TensorFlow placeholder \"keep_prob\" using the TensorFlow `name` parameter in the [TF Placeholder](https://www.tensorflow.org/api_docs/python/tf/placeholder)."
   ]
  },
  {
   "cell_type": "code",
   "execution_count": 2,
   "metadata": {},
   "outputs": [
    {
     "name": "stdout",
     "output_type": "stream",
     "text": [
      "Image Input Tests Passed.\n",
      "Label Input Tests Passed.\n",
      "Keep Prob Tests Passed.\n"
     ]
    }
   ],
   "source": [
    "import tensorflow as tf\n",
    "\n",
    "def neural_net_image_input(image_shape):\n",
    "    \"\"\"\n",
    "    Return a Tensor for a batch of image input\n",
    "    : image_shape: Shape of the images\n",
    "    : return: Tensor for image input.\n",
    "    \"\"\"\n",
    "    return tf.placeholder(tf.float32, shape = [None, image_shape[0], image_shape[1], image_shape[2]], name = \"x\")\n",
    "    \n",
    "\n",
    "def neural_net_label_input(n_classes):\n",
    "    \"\"\"\n",
    "    Return a Tensor for a batch of label input\n",
    "    : n_classes: Number of classes\n",
    "    : return: Tensor for label input.\n",
    "    \"\"\"\n",
    "    return tf.placeholder(tf.float32, shape = [None, n_classes], name = \"y\")\n",
    "\n",
    "\n",
    "def neural_net_keep_prob_input():\n",
    "    \"\"\"\n",
    "    Return a Tensor for keep probability\n",
    "    : return: Tensor for keep probability.\n",
    "    \"\"\"\n",
    "    return tf.placeholder(tf.float32, name = \"keep_prob\")\n",
    "\n",
    "\n",
    "tf.reset_default_graph()\n",
    "tests.test_nn_image_inputs(neural_net_image_input)\n",
    "tests.test_nn_label_inputs(neural_net_label_input)\n",
    "tests.test_nn_keep_prob_inputs(neural_net_keep_prob_input)"
   ]
  },
  {
   "cell_type": "markdown",
   "metadata": {},
   "source": [
    "### Convolution and Max Pooling Layer\n",
    "Convolution layers have a lot of success with images. We will implement the function `conv2d_maxpool` to apply convolution then max pooling:\n",
    "* Create the weight and bias using `conv_ksize`, `conv_num_outputs` and the shape of `x_tensor`.\n",
    "* Apply a convolution to `x_tensor` using weight and `conv_strides`.\n",
    "* Add bias\n",
    "* Add a nonlinear activation to the convolution.\n",
    "* Apply Max Pooling using `pool_ksize` and `pool_strides`."
   ]
  },
  {
   "cell_type": "code",
   "execution_count": 19,
   "metadata": {},
   "outputs": [
    {
     "name": "stdout",
     "output_type": "stream",
     "text": [
      "Tests Passed\n"
     ]
    }
   ],
   "source": [
    "def conv2d_maxpool(x_tensor, conv_num_outputs, conv_ksize, conv_strides, pool_ksize, pool_strides):\n",
    "    \"\"\"\n",
    "    Apply convolution then max pooling to x_tensor\n",
    "    :param x_tensor: TensorFlow Tensor\n",
    "    :param conv_num_outputs: Number of outputs for the convolutional layer\n",
    "    :param conv_ksize: kernal size 2-D Tuple for the convolutional layer\n",
    "    :param conv_strides: Stride 2-D Tuple for convolution\n",
    "    :param pool_ksize: kernal size 2-D Tuple for pool\n",
    "    :param pool_strides: Stride 2-D Tuple for pool\n",
    "    : return: A tensor that represents convolution and max pooling of x_tensor\n",
    "    \"\"\"    \n",
    "    weight = tf.Variable(tf.truncated_normal([conv_ksize[0] ,conv_ksize[1] , x_tensor.shape[3].value, \n",
    "                                              conv_num_outputs], stddev = 0.1))\n",
    "    bias = tf.Variable(tf.zeros(conv_num_outputs))\n",
    "    \n",
    "    #Convolution Layer\n",
    "    conv_pool_layer = tf.nn.conv2d(x_tensor, weight, \n",
    "                             strides = [1, conv_strides[0], conv_strides[1], 1], \n",
    "                             padding = \"SAME\")\n",
    "    conv_pool_layer = tf.nn.bias_add(conv_pool_layer, bias)\n",
    "    conv_pool_layer = tf.nn.relu(conv_pool_layer)\n",
    "    \n",
    "    #Max pooling layer\n",
    "    conv_pool_layer = tf.nn.max_pool(conv_pool_layer,\n",
    "                               ksize = [1, pool_ksize[0], pool_ksize[1], 1],\n",
    "                               strides = [1, pool_strides[0], pool_strides[1], 1],\n",
    "                               padding = \"SAME\")\n",
    "    return conv_pool_layer \n",
    "\n",
    "\n",
    "tests.test_con_pool(conv2d_maxpool)"
   ]
  },
  {
   "cell_type": "markdown",
   "metadata": {},
   "source": [
    "### Flatten Layer\n",
    "The `flatten` function will change the dimension of `x_tensor` from a 4-D tensor to a 2-D tensor.  The output should be the shape (*Batch Size*, *Flattened Image Size*)."
   ]
  },
  {
   "cell_type": "code",
   "execution_count": 17,
   "metadata": {},
   "outputs": [
    {
     "name": "stdout",
     "output_type": "stream",
     "text": [
      "Tests Passed\n"
     ]
    }
   ],
   "source": [
    "def flatten(x_tensor):\n",
    "    \"\"\"\n",
    "    Flatten x_tensor to (Batch Size, Flattened Image Size)\n",
    "    : x_tensor: A tensor of size (Batch Size, ...), where ... are the image dimensions.\n",
    "    : return: A tensor of size (Batch Size, Flattened Image Size).\n",
    "    \"\"\"\n",
    "    shape_x = x_tensor.get_shape().as_list()\n",
    "    return tf.reshape(x_tensor, [-1, shape_x[1] * shape_x[2] * shape_x[3]])\n",
    "    #return tf.contrib.layers.flatten(x_tensor)\n",
    "\n",
    "    \n",
    "tests.test_flatten(flatten)"
   ]
  },
  {
   "cell_type": "markdown",
   "metadata": {},
   "source": [
    "### Fully-Connected Layer\n",
    "The `fully_conn` function will apply a fully connected layer to `x_tensor` with the shape (*Batch Size*, *num_outputs*)."
   ]
  },
  {
   "cell_type": "code",
   "execution_count": 21,
   "metadata": {},
   "outputs": [
    {
     "name": "stdout",
     "output_type": "stream",
     "text": [
      "Tests Passed\n"
     ]
    }
   ],
   "source": [
    "def fully_conn(x_tensor, num_outputs):\n",
    "    \"\"\"\n",
    "    Apply a fully connected layer to x_tensor using weight and bias\n",
    "    : x_tensor: A 2-D tensor where the first dimension is batch size.\n",
    "    : num_outputs: The number of output that the new tensor should be.\n",
    "    : return: A 2-D tensor where the second dimension is num_outputs.\n",
    "    \"\"\"\n",
    "    weight = tf.Variable(tf.truncated_normal([x_tensor.shape[1].value, num_outputs], stddev=0.05))\n",
    "    bias = tf.Variable(tf.zeros([num_outputs]))\n",
    "    \n",
    "    return tf.nn.relu(tf.add(tf.matmul(x_tensor, weight), bias))\n",
    "\n",
    "\n",
    "tests.test_fully_conn(fully_conn)"
   ]
  },
  {
   "cell_type": "markdown",
   "metadata": {},
   "source": [
    "### Output Layer\n",
    "The `output` function will apply a fully connected layer to `x_tensor` with the shape (*Batch Size*, *num_outputs*)."
   ]
  },
  {
   "cell_type": "code",
   "execution_count": 22,
   "metadata": {},
   "outputs": [
    {
     "name": "stdout",
     "output_type": "stream",
     "text": [
      "Tests Passed\n"
     ]
    }
   ],
   "source": [
    "def output(x_tensor, num_outputs):\n",
    "    \"\"\"\n",
    "    Apply a output layer to x_tensor using weight and bias\n",
    "    : x_tensor: A 2-D tensor where the first dimension is batch size.\n",
    "    : num_outputs: The number of output that the new tensor should be.\n",
    "    : return: A 2-D tensor where the second dimension is num_outputs.\n",
    "    \"\"\"\n",
    "    weight = tf.Variable(tf.truncated_normal([x_tensor.shape[1].value, num_outputs], stddev = 0.05))\n",
    "    bias = tf.Variable(tf.truncated_normal([num_outputs]))\n",
    "    \n",
    "    return tf.add(tf.matmul(x_tensor, weight), bias)\n",
    "\n",
    "\n",
    "tests.test_output(output)"
   ]
  },
  {
   "cell_type": "markdown",
   "metadata": {},
   "source": [
    "### Create Convolutional Model\n",
    "The function `conv_net` will create a convolutional neural network model. The function takes in a batch of images, `x`, and outputs logits.\n",
    "\n",
    "* Apply Convolution (1, 2, or 3) and Max Pool layers\n",
    "* Apply a Flatten Layer\n",
    "* Apply Fully Connected Layers (1, 2, or 3)\n",
    "* Apply an Output Layer\n",
    "* Return the output\n",
    "* Apply [TensorFlow's Dropout](https://www.tensorflow.org/api_docs/python/tf/nn/dropout) to one or more layers in the model using `keep_prob`. "
   ]
  },
  {
   "cell_type": "code",
   "execution_count": 25,
   "metadata": {},
   "outputs": [
    {
     "name": "stdout",
     "output_type": "stream",
     "text": [
      "Neural Network Built!\n"
     ]
    }
   ],
   "source": [
    "def conv_net(x, keep_prob):\n",
    "    \"\"\"\n",
    "    Create a convolutional neural network model\n",
    "    : x: Placeholder tensor that holds image data.\n",
    "    : keep_prob: Placeholder tensor that hold dropout keep probability.\n",
    "    : return: Tensor that represents logits\n",
    "    \"\"\"\n",
    "    # Function Definition:\n",
    "    #    conv2d_maxpool(x_tensor, conv_num_outputs, conv_ksize, conv_strides, pool_ksize, pool_strides)\n",
    "    output_tensor = conv2d_maxpool(\n",
    "        x,\n",
    "        conv_num_outputs=128,\n",
    "        conv_ksize=(4, 4),\n",
    "        conv_strides=(4, 4),\n",
    "        pool_ksize=(2, 2),\n",
    "        pool_strides=(2, 2))\n",
    "    \n",
    "    # Function Definition:\n",
    "    #   flatten(x_tensor)\n",
    "    output_tensor = flatten(output_tensor)\n",
    "\n",
    "    # Function Definition:\n",
    "    #   fully_conn(x_tensor, num_outputs)\n",
    "    output_tensor = fully_conn(output_tensor, 500)\n",
    "    output_tensor = fully_conn(output_tensor, 250)\n",
    "\n",
    "    output_tensor = tf.nn.dropout(output_tensor, keep_prob)\n",
    "    \n",
    "    # Function Definition:\n",
    "    #   output(x_tensor, num_outputs)\n",
    "    output_tensor = output(output_tensor, 10)\n",
    "    return output_tensor\n",
    "\n",
    "\n",
    "##############################\n",
    "## Build the Neural Network ##\n",
    "##############################\n",
    "\n",
    "# Remove previous weights, bias, inputs, etc..\n",
    "tf.reset_default_graph()\n",
    "\n",
    "# Inputs\n",
    "x = neural_net_image_input((32, 32, 3))\n",
    "y = neural_net_label_input(10)\n",
    "keep_prob = neural_net_keep_prob_input()\n",
    "\n",
    "# Model\n",
    "logits = conv_net(x, keep_prob)\n",
    "\n",
    "# Name logits Tensor, so that is can be loaded from disk after training\n",
    "logits = tf.identity(logits, name='logits')\n",
    "\n",
    "# Loss and Optimizer\n",
    "cost = tf.reduce_mean(tf.nn.softmax_cross_entropy_with_logits(logits=logits, labels=y))\n",
    "optimizer = tf.train.AdamOptimizer().minimize(cost)\n",
    "\n",
    "# Accuracy\n",
    "correct_pred = tf.equal(tf.argmax(logits, 1), tf.argmax(y, 1))\n",
    "accuracy = tf.reduce_mean(tf.cast(correct_pred, tf.float32), name='accuracy')\n",
    "\n",
    "tests.test_conv_net(conv_net)"
   ]
  },
  {
   "cell_type": "markdown",
   "metadata": {},
   "source": [
    "## Train the Neural Network\n",
    "### Single Optimization\n",
    "The function `train_neural_network` will do a single optimization.  The optimization should use `optimizer` to optimize in `session` with a `feed_dict` of the following:\n",
    "* `x` for image input\n",
    "* `y` for labels\n",
    "* `keep_prob` for keep probability for dropout\n",
    "\n",
    "This function will be called for each batch, so `tf.global_variables_initializer()` has already been called."
   ]
  },
  {
   "cell_type": "code",
   "execution_count": 26,
   "metadata": {},
   "outputs": [
    {
     "name": "stdout",
     "output_type": "stream",
     "text": [
      "Tests Passed\n"
     ]
    }
   ],
   "source": [
    "def train_neural_network(session, optimizer, keep_probability, feature_batch, label_batch):\n",
    "    \"\"\"\n",
    "    Optimize the session on a batch of images and labels\n",
    "    : session: Current TensorFlow session\n",
    "    : optimizer: TensorFlow optimizer function\n",
    "    : keep_probability: keep probability\n",
    "    : feature_batch: Batch of Numpy image data\n",
    "    : label_batch: Batch of Numpy label data\n",
    "    \"\"\"\n",
    "    session.run(optimizer, feed_dict = {x: feature_batch, y: label_batch, keep_prob: keep_probability})\n",
    "\n",
    "\n",
    "tests.test_train_nn(train_neural_network)"
   ]
  },
  {
   "cell_type": "markdown",
   "metadata": {},
   "source": [
    "### Show Stats\n",
    "The function `print_stats` will print loss and validation accuracy."
   ]
  },
  {
   "cell_type": "code",
   "execution_count": 28,
   "metadata": {
    "collapsed": true
   },
   "outputs": [],
   "source": [
    "def print_stats(session, feature_batch, label_batch, cost, accuracy):\n",
    "    \"\"\"\n",
    "    Print information about loss and validation accuracy\n",
    "    : session: Current TensorFlow session\n",
    "    : feature_batch: Batch of Numpy image data\n",
    "    : label_batch: Batch of Numpy label data\n",
    "    : cost: TensorFlow cost function\n",
    "    : accuracy: TensorFlow accuracy function\n",
    "    \"\"\"\n",
    "    network_loss = sess.run(cost, feed_dict = {x: feature_batch, y: label_batch, keep_prob: 1.})\n",
    "    network_accuracy = sess.run(accuracy, feed_dict = {x: valid_features, y: valid_labels, keep_prob: 1.})\n",
    "\n",
    "    print('Loss: {:.4f}, accuracy: {:.4f}'.format(network_loss, network_accuracy))"
   ]
  },
  {
   "cell_type": "markdown",
   "metadata": {},
   "source": [
    "### Hyperparameters\n",
    "* Set `epochs` to the number of iterations until the network stops learning or start overfitting\n",
    "* Set `batch_size` to the highest number that your machine has memory for.  Most people set them to common sizes of memory:\n",
    " * 64\n",
    " * 128\n",
    " * 256\n",
    " * ...\n",
    "* Set `keep_probability` to the probability of keeping a node using dropout"
   ]
  },
  {
   "cell_type": "code",
   "execution_count": 30,
   "metadata": {
    "collapsed": true
   },
   "outputs": [],
   "source": [
    "epochs = 50\n",
    "batch_size = 128\n",
    "keep_probability = 0.5"
   ]
  },
  {
   "cell_type": "markdown",
   "metadata": {},
   "source": [
    "### Train on a Single CIFAR-10 Batch\n",
    "Instead of training the neural network on all the CIFAR-10 batches of data, let's use a single batch. This should save time while we iterate on the model to get a better accuracy.  Once the final validation accuracy is 50% or greater, run the model on all the data in the next section."
   ]
  },
  {
   "cell_type": "code",
   "execution_count": 31,
   "metadata": {},
   "outputs": [
    {
     "name": "stdout",
     "output_type": "stream",
     "text": [
      "Checking the Training on a Single Batch...\n",
      "Epoch  1, CIFAR-10 Batch 1:  Loss: 1.9990, accuracy: 0.3646\n",
      "Epoch  2, CIFAR-10 Batch 1:  Loss: 1.7600, accuracy: 0.4146\n",
      "Epoch  3, CIFAR-10 Batch 1:  Loss: 1.5432, accuracy: 0.4552\n",
      "Epoch  4, CIFAR-10 Batch 1:  Loss: 1.4410, accuracy: 0.4806\n",
      "Epoch  5, CIFAR-10 Batch 1:  Loss: 1.2642, accuracy: 0.4986\n",
      "Epoch  6, CIFAR-10 Batch 1:  Loss: 1.1537, accuracy: 0.5000\n",
      "Epoch  7, CIFAR-10 Batch 1:  Loss: 0.9819, accuracy: 0.5208\n",
      "Epoch  8, CIFAR-10 Batch 1:  Loss: 0.8624, accuracy: 0.5160\n",
      "Epoch  9, CIFAR-10 Batch 1:  Loss: 0.7064, accuracy: 0.5272\n",
      "Epoch 10, CIFAR-10 Batch 1:  Loss: 0.6651, accuracy: 0.5140\n",
      "Epoch 11, CIFAR-10 Batch 1:  Loss: 0.5038, accuracy: 0.5250\n",
      "Epoch 12, CIFAR-10 Batch 1:  Loss: 0.4733, accuracy: 0.5194\n",
      "Epoch 13, CIFAR-10 Batch 1:  Loss: 0.3729, accuracy: 0.5460\n",
      "Epoch 14, CIFAR-10 Batch 1:  Loss: 0.2842, accuracy: 0.5368\n",
      "Epoch 15, CIFAR-10 Batch 1:  Loss: 0.2329, accuracy: 0.5390\n",
      "Epoch 16, CIFAR-10 Batch 1:  Loss: 0.2066, accuracy: 0.5152\n",
      "Epoch 17, CIFAR-10 Batch 1:  Loss: 0.1420, accuracy: 0.5258\n",
      "Epoch 18, CIFAR-10 Batch 1:  Loss: 0.0874, accuracy: 0.5430\n",
      "Epoch 19, CIFAR-10 Batch 1:  Loss: 0.0798, accuracy: 0.5372\n",
      "Epoch 20, CIFAR-10 Batch 1:  Loss: 0.0627, accuracy: 0.5316\n",
      "Epoch 21, CIFAR-10 Batch 1:  Loss: 0.0716, accuracy: 0.5284\n",
      "Epoch 22, CIFAR-10 Batch 1:  Loss: 0.0519, accuracy: 0.5270\n",
      "Epoch 23, CIFAR-10 Batch 1:  Loss: 0.0211, accuracy: 0.5240\n",
      "Epoch 24, CIFAR-10 Batch 1:  Loss: 0.0175, accuracy: 0.5210\n",
      "Epoch 25, CIFAR-10 Batch 1:  Loss: 0.0160, accuracy: 0.5368\n",
      "Epoch 26, CIFAR-10 Batch 1:  Loss: 0.0127, accuracy: 0.5140\n",
      "Epoch 27, CIFAR-10 Batch 1:  Loss: 0.0100, accuracy: 0.5246\n",
      "Epoch 28, CIFAR-10 Batch 1:  Loss: 0.0093, accuracy: 0.5182\n",
      "Epoch 29, CIFAR-10 Batch 1:  Loss: 0.0053, accuracy: 0.5118\n",
      "Epoch 30, CIFAR-10 Batch 1:  Loss: 0.0066, accuracy: 0.5214\n",
      "Epoch 31, CIFAR-10 Batch 1:  Loss: 0.0043, accuracy: 0.5208\n",
      "Epoch 32, CIFAR-10 Batch 1:  Loss: 0.0050, accuracy: 0.5142\n",
      "Epoch 33, CIFAR-10 Batch 1:  Loss: 0.0030, accuracy: 0.5366\n",
      "Epoch 34, CIFAR-10 Batch 1:  Loss: 0.0026, accuracy: 0.5286\n",
      "Epoch 35, CIFAR-10 Batch 1:  Loss: 0.0026, accuracy: 0.5244\n",
      "Epoch 36, CIFAR-10 Batch 1:  Loss: 0.0020, accuracy: 0.5168\n",
      "Epoch 37, CIFAR-10 Batch 1:  Loss: 0.0024, accuracy: 0.5280\n",
      "Epoch 38, CIFAR-10 Batch 1:  Loss: 0.0011, accuracy: 0.5308\n",
      "Epoch 39, CIFAR-10 Batch 1:  Loss: 0.0018, accuracy: 0.5266\n",
      "Epoch 40, CIFAR-10 Batch 1:  Loss: 0.0014, accuracy: 0.5374\n",
      "Epoch 41, CIFAR-10 Batch 1:  Loss: 0.0012, accuracy: 0.5274\n",
      "Epoch 42, CIFAR-10 Batch 1:  Loss: 0.0004, accuracy: 0.5282\n",
      "Epoch 43, CIFAR-10 Batch 1:  Loss: 0.0005, accuracy: 0.5246\n",
      "Epoch 44, CIFAR-10 Batch 1:  Loss: 0.0021, accuracy: 0.5148\n",
      "Epoch 45, CIFAR-10 Batch 1:  Loss: 0.0009, accuracy: 0.5258\n",
      "Epoch 46, CIFAR-10 Batch 1:  Loss: 0.0006, accuracy: 0.5366\n",
      "Epoch 47, CIFAR-10 Batch 1:  Loss: 0.0010, accuracy: 0.5334\n",
      "Epoch 48, CIFAR-10 Batch 1:  Loss: 0.0011, accuracy: 0.5282\n",
      "Epoch 49, CIFAR-10 Batch 1:  Loss: 0.0006, accuracy: 0.5256\n",
      "Epoch 50, CIFAR-10 Batch 1:  Loss: 0.0002, accuracy: 0.5284\n"
     ]
    }
   ],
   "source": [
    "print('Checking the Training on a Single Batch...')\n",
    "with tf.Session() as sess:\n",
    "    # Initializing the variables\n",
    "    sess.run(tf.global_variables_initializer())\n",
    "    \n",
    "    # Training cycle\n",
    "    for epoch in range(epochs):\n",
    "        batch_i = 1\n",
    "        for batch_features, batch_labels in helper.load_preprocess_training_batch(batch_i, batch_size):\n",
    "            train_neural_network(sess, optimizer, keep_probability, batch_features, batch_labels)\n",
    "        print('Epoch {:>2}, CIFAR-10 Batch {}:  '.format(epoch + 1, batch_i), end='')\n",
    "        print_stats(sess, batch_features, batch_labels, cost, accuracy)"
   ]
  },
  {
   "cell_type": "markdown",
   "metadata": {},
   "source": [
    "### Fully Train the Model\n",
    "Now that we got a decent accuracy with a single CIFAR-10 batch, try it with all five batches."
   ]
  },
  {
   "cell_type": "code",
   "execution_count": 32,
   "metadata": {},
   "outputs": [
    {
     "name": "stdout",
     "output_type": "stream",
     "text": [
      "Training...\n",
      "Epoch  1, CIFAR-10 Batch 1:  Loss: 1.9311, accuracy: 0.3636\n",
      "Epoch  1, CIFAR-10 Batch 2:  Loss: 1.5391, accuracy: 0.4380\n",
      "Epoch  1, CIFAR-10 Batch 3:  Loss: 1.3446, accuracy: 0.4598\n",
      "Epoch  1, CIFAR-10 Batch 4:  Loss: 1.4581, accuracy: 0.4750\n",
      "Epoch  1, CIFAR-10 Batch 5:  Loss: 1.4873, accuracy: 0.4972\n",
      "Epoch  2, CIFAR-10 Batch 1:  Loss: 1.5762, accuracy: 0.5094\n",
      "Epoch  2, CIFAR-10 Batch 2:  Loss: 1.1642, accuracy: 0.5036\n",
      "Epoch  2, CIFAR-10 Batch 3:  Loss: 1.0412, accuracy: 0.5160\n",
      "Epoch  2, CIFAR-10 Batch 4:  Loss: 1.1652, accuracy: 0.5186\n",
      "Epoch  2, CIFAR-10 Batch 5:  Loss: 1.1592, accuracy: 0.5450\n",
      "Epoch  3, CIFAR-10 Batch 1:  Loss: 1.3541, accuracy: 0.5338\n",
      "Epoch  3, CIFAR-10 Batch 2:  Loss: 0.9663, accuracy: 0.5594\n",
      "Epoch  3, CIFAR-10 Batch 3:  Loss: 0.9330, accuracy: 0.5420\n",
      "Epoch  3, CIFAR-10 Batch 4:  Loss: 0.9864, accuracy: 0.5584\n",
      "Epoch  3, CIFAR-10 Batch 5:  Loss: 0.9881, accuracy: 0.5716\n",
      "Epoch  4, CIFAR-10 Batch 1:  Loss: 1.1004, accuracy: 0.5734\n",
      "Epoch  4, CIFAR-10 Batch 2:  Loss: 0.7658, accuracy: 0.5736\n",
      "Epoch  4, CIFAR-10 Batch 3:  Loss: 0.7454, accuracy: 0.5814\n",
      "Epoch  4, CIFAR-10 Batch 4:  Loss: 0.7848, accuracy: 0.5780\n",
      "Epoch  4, CIFAR-10 Batch 5:  Loss: 0.7987, accuracy: 0.5996\n",
      "Epoch  5, CIFAR-10 Batch 1:  Loss: 0.9309, accuracy: 0.5864\n",
      "Epoch  5, CIFAR-10 Batch 2:  Loss: 0.6634, accuracy: 0.5912\n",
      "Epoch  5, CIFAR-10 Batch 3:  Loss: 0.5735, accuracy: 0.5924\n",
      "Epoch  5, CIFAR-10 Batch 4:  Loss: 0.6165, accuracy: 0.6022\n",
      "Epoch  5, CIFAR-10 Batch 5:  Loss: 0.5927, accuracy: 0.6054\n",
      "Epoch  6, CIFAR-10 Batch 1:  Loss: 0.7217, accuracy: 0.5880\n",
      "Epoch  6, CIFAR-10 Batch 2:  Loss: 0.5906, accuracy: 0.6018\n",
      "Epoch  6, CIFAR-10 Batch 3:  Loss: 0.4483, accuracy: 0.6058\n",
      "Epoch  6, CIFAR-10 Batch 4:  Loss: 0.4913, accuracy: 0.6070\n",
      "Epoch  6, CIFAR-10 Batch 5:  Loss: 0.5180, accuracy: 0.5944\n",
      "Epoch  7, CIFAR-10 Batch 1:  Loss: 0.6876, accuracy: 0.6034\n",
      "Epoch  7, CIFAR-10 Batch 2:  Loss: 0.4337, accuracy: 0.6246\n",
      "Epoch  7, CIFAR-10 Batch 3:  Loss: 0.3684, accuracy: 0.6030\n",
      "Epoch  7, CIFAR-10 Batch 4:  Loss: 0.3609, accuracy: 0.6238\n",
      "Epoch  7, CIFAR-10 Batch 5:  Loss: 0.3367, accuracy: 0.6138\n",
      "Epoch  8, CIFAR-10 Batch 1:  Loss: 0.5031, accuracy: 0.6186\n",
      "Epoch  8, CIFAR-10 Batch 2:  Loss: 0.3474, accuracy: 0.6102\n",
      "Epoch  8, CIFAR-10 Batch 3:  Loss: 0.2791, accuracy: 0.6082\n",
      "Epoch  8, CIFAR-10 Batch 4:  Loss: 0.2729, accuracy: 0.6220\n",
      "Epoch  8, CIFAR-10 Batch 5:  Loss: 0.2297, accuracy: 0.6128\n",
      "Epoch  9, CIFAR-10 Batch 1:  Loss: 0.4102, accuracy: 0.6216\n",
      "Epoch  9, CIFAR-10 Batch 2:  Loss: 0.2423, accuracy: 0.6186\n",
      "Epoch  9, CIFAR-10 Batch 3:  Loss: 0.2162, accuracy: 0.6244\n",
      "Epoch  9, CIFAR-10 Batch 4:  Loss: 0.1903, accuracy: 0.6256\n",
      "Epoch  9, CIFAR-10 Batch 5:  Loss: 0.2019, accuracy: 0.5934\n",
      "Epoch 10, CIFAR-10 Batch 1:  Loss: 0.3024, accuracy: 0.6290\n",
      "Epoch 10, CIFAR-10 Batch 2:  Loss: 0.2433, accuracy: 0.6224\n",
      "Epoch 10, CIFAR-10 Batch 3:  Loss: 0.1440, accuracy: 0.6162\n",
      "Epoch 10, CIFAR-10 Batch 4:  Loss: 0.1781, accuracy: 0.6198\n",
      "Epoch 10, CIFAR-10 Batch 5:  Loss: 0.1668, accuracy: 0.5928\n",
      "Epoch 11, CIFAR-10 Batch 1:  Loss: 0.2416, accuracy: 0.6208\n",
      "Epoch 11, CIFAR-10 Batch 2:  Loss: 0.2358, accuracy: 0.5890\n",
      "Epoch 11, CIFAR-10 Batch 3:  Loss: 0.1435, accuracy: 0.6014\n",
      "Epoch 11, CIFAR-10 Batch 4:  Loss: 0.1426, accuracy: 0.5974\n",
      "Epoch 11, CIFAR-10 Batch 5:  Loss: 0.1171, accuracy: 0.6072\n",
      "Epoch 12, CIFAR-10 Batch 1:  Loss: 0.1688, accuracy: 0.6160\n",
      "Epoch 12, CIFAR-10 Batch 2:  Loss: 0.1513, accuracy: 0.6206\n",
      "Epoch 12, CIFAR-10 Batch 3:  Loss: 0.1481, accuracy: 0.6002\n",
      "Epoch 12, CIFAR-10 Batch 4:  Loss: 0.0921, accuracy: 0.5978\n",
      "Epoch 12, CIFAR-10 Batch 5:  Loss: 0.0854, accuracy: 0.6200\n",
      "Epoch 13, CIFAR-10 Batch 1:  Loss: 0.1055, accuracy: 0.6162\n",
      "Epoch 13, CIFAR-10 Batch 2:  Loss: 0.0908, accuracy: 0.6084\n",
      "Epoch 13, CIFAR-10 Batch 3:  Loss: 0.1240, accuracy: 0.5828\n",
      "Epoch 13, CIFAR-10 Batch 4:  Loss: 0.0614, accuracy: 0.6170\n",
      "Epoch 13, CIFAR-10 Batch 5:  Loss: 0.0511, accuracy: 0.6200\n",
      "Epoch 14, CIFAR-10 Batch 1:  Loss: 0.0848, accuracy: 0.6146\n",
      "Epoch 14, CIFAR-10 Batch 2:  Loss: 0.0596, accuracy: 0.6184\n",
      "Epoch 14, CIFAR-10 Batch 3:  Loss: 0.0639, accuracy: 0.6082\n",
      "Epoch 14, CIFAR-10 Batch 4:  Loss: 0.0480, accuracy: 0.6128\n",
      "Epoch 14, CIFAR-10 Batch 5:  Loss: 0.0370, accuracy: 0.5986\n",
      "Epoch 15, CIFAR-10 Batch 1:  Loss: 0.0570, accuracy: 0.6216\n",
      "Epoch 15, CIFAR-10 Batch 2:  Loss: 0.0693, accuracy: 0.6204\n",
      "Epoch 15, CIFAR-10 Batch 3:  Loss: 0.0660, accuracy: 0.5958\n",
      "Epoch 15, CIFAR-10 Batch 4:  Loss: 0.0539, accuracy: 0.6068\n",
      "Epoch 15, CIFAR-10 Batch 5:  Loss: 0.0300, accuracy: 0.6186\n",
      "Epoch 16, CIFAR-10 Batch 1:  Loss: 0.0509, accuracy: 0.6100\n",
      "Epoch 16, CIFAR-10 Batch 2:  Loss: 0.0347, accuracy: 0.6202\n",
      "Epoch 16, CIFAR-10 Batch 3:  Loss: 0.0276, accuracy: 0.6080\n",
      "Epoch 16, CIFAR-10 Batch 4:  Loss: 0.0349, accuracy: 0.6194\n",
      "Epoch 16, CIFAR-10 Batch 5:  Loss: 0.0305, accuracy: 0.6194\n",
      "Epoch 17, CIFAR-10 Batch 1:  Loss: 0.0430, accuracy: 0.6066\n",
      "Epoch 17, CIFAR-10 Batch 2:  Loss: 0.0676, accuracy: 0.6106\n",
      "Epoch 17, CIFAR-10 Batch 3:  Loss: 0.0325, accuracy: 0.6066\n",
      "Epoch 17, CIFAR-10 Batch 4:  Loss: 0.0210, accuracy: 0.6126\n",
      "Epoch 17, CIFAR-10 Batch 5:  Loss: 0.0175, accuracy: 0.6190\n",
      "Epoch 18, CIFAR-10 Batch 1:  Loss: 0.0308, accuracy: 0.6130\n",
      "Epoch 18, CIFAR-10 Batch 2:  Loss: 0.0263, accuracy: 0.6000\n",
      "Epoch 18, CIFAR-10 Batch 3:  Loss: 0.0231, accuracy: 0.6008\n",
      "Epoch 18, CIFAR-10 Batch 4:  Loss: 0.0300, accuracy: 0.5952\n",
      "Epoch 18, CIFAR-10 Batch 5:  Loss: 0.0159, accuracy: 0.6082\n",
      "Epoch 19, CIFAR-10 Batch 1:  Loss: 0.0238, accuracy: 0.6126\n",
      "Epoch 19, CIFAR-10 Batch 2:  Loss: 0.0144, accuracy: 0.6030\n",
      "Epoch 19, CIFAR-10 Batch 3:  Loss: 0.0354, accuracy: 0.5994\n",
      "Epoch 19, CIFAR-10 Batch 4:  Loss: 0.0124, accuracy: 0.5928\n",
      "Epoch 19, CIFAR-10 Batch 5:  Loss: 0.0124, accuracy: 0.6042\n",
      "Epoch 20, CIFAR-10 Batch 1:  Loss: 0.0303, accuracy: 0.6118\n",
      "Epoch 20, CIFAR-10 Batch 2:  Loss: 0.0139, accuracy: 0.6054\n",
      "Epoch 20, CIFAR-10 Batch 3:  Loss: 0.0230, accuracy: 0.6050\n",
      "Epoch 20, CIFAR-10 Batch 4:  Loss: 0.0086, accuracy: 0.6006\n",
      "Epoch 20, CIFAR-10 Batch 5:  Loss: 0.0162, accuracy: 0.6050\n",
      "Epoch 21, CIFAR-10 Batch 1:  Loss: 0.0154, accuracy: 0.6002\n",
      "Epoch 21, CIFAR-10 Batch 2:  Loss: 0.0075, accuracy: 0.6158\n",
      "Epoch 21, CIFAR-10 Batch 3:  Loss: 0.0139, accuracy: 0.5890\n",
      "Epoch 21, CIFAR-10 Batch 4:  Loss: 0.0048, accuracy: 0.6036\n",
      "Epoch 21, CIFAR-10 Batch 5:  Loss: 0.0116, accuracy: 0.6138\n",
      "Epoch 22, CIFAR-10 Batch 1:  Loss: 0.0170, accuracy: 0.5996\n",
      "Epoch 22, CIFAR-10 Batch 2:  Loss: 0.0018, accuracy: 0.6094\n",
      "Epoch 22, CIFAR-10 Batch 3:  Loss: 0.0065, accuracy: 0.5802\n",
      "Epoch 22, CIFAR-10 Batch 4:  Loss: 0.0046, accuracy: 0.6132\n",
      "Epoch 22, CIFAR-10 Batch 5:  Loss: 0.0065, accuracy: 0.6016\n",
      "Epoch 23, CIFAR-10 Batch 1:  Loss: 0.0072, accuracy: 0.6090\n",
      "Epoch 23, CIFAR-10 Batch 2:  Loss: 0.0056, accuracy: 0.6258\n",
      "Epoch 23, CIFAR-10 Batch 3:  Loss: 0.0122, accuracy: 0.5870\n",
      "Epoch 23, CIFAR-10 Batch 4:  Loss: 0.0053, accuracy: 0.6056\n",
      "Epoch 23, CIFAR-10 Batch 5:  Loss: 0.0065, accuracy: 0.6070\n",
      "Epoch 24, CIFAR-10 Batch 1:  Loss: 0.0081, accuracy: 0.6128\n",
      "Epoch 24, CIFAR-10 Batch 2:  Loss: 0.0035, accuracy: 0.6064\n",
      "Epoch 24, CIFAR-10 Batch 3:  Loss: 0.0031, accuracy: 0.5914\n",
      "Epoch 24, CIFAR-10 Batch 4:  Loss: 0.0018, accuracy: 0.6024\n",
      "Epoch 24, CIFAR-10 Batch 5:  Loss: 0.0081, accuracy: 0.6040\n",
      "Epoch 25, CIFAR-10 Batch 1:  Loss: 0.0167, accuracy: 0.6016\n",
      "Epoch 25, CIFAR-10 Batch 2:  Loss: 0.0014, accuracy: 0.6082\n",
      "Epoch 25, CIFAR-10 Batch 3:  Loss: 0.0041, accuracy: 0.6022\n",
      "Epoch 25, CIFAR-10 Batch 4:  Loss: 0.0071, accuracy: 0.5984\n",
      "Epoch 25, CIFAR-10 Batch 5:  Loss: 0.0055, accuracy: 0.6046\n",
      "Epoch 26, CIFAR-10 Batch 1:  Loss: 0.0050, accuracy: 0.5942\n",
      "Epoch 26, CIFAR-10 Batch 2:  Loss: 0.0020, accuracy: 0.5992\n",
      "Epoch 26, CIFAR-10 Batch 3:  Loss: 0.0037, accuracy: 0.6066\n",
      "Epoch 26, CIFAR-10 Batch 4:  Loss: 0.0060, accuracy: 0.5946\n",
      "Epoch 26, CIFAR-10 Batch 5:  Loss: 0.0234, accuracy: 0.6024\n",
      "Epoch 27, CIFAR-10 Batch 1:  Loss: 0.0051, accuracy: 0.6040\n",
      "Epoch 27, CIFAR-10 Batch 2:  Loss: 0.0025, accuracy: 0.6024\n",
      "Epoch 27, CIFAR-10 Batch 3:  Loss: 0.0017, accuracy: 0.6034\n",
      "Epoch 27, CIFAR-10 Batch 4:  Loss: 0.0070, accuracy: 0.5940\n",
      "Epoch 27, CIFAR-10 Batch 5:  Loss: 0.0023, accuracy: 0.6066\n",
      "Epoch 28, CIFAR-10 Batch 1:  Loss: 0.0078, accuracy: 0.6072\n",
      "Epoch 28, CIFAR-10 Batch 2:  Loss: 0.0050, accuracy: 0.5954\n",
      "Epoch 28, CIFAR-10 Batch 3:  Loss: 0.0018, accuracy: 0.6092\n",
      "Epoch 28, CIFAR-10 Batch 4:  Loss: 0.0047, accuracy: 0.5854\n",
      "Epoch 28, CIFAR-10 Batch 5:  Loss: 0.0028, accuracy: 0.6058\n",
      "Epoch 29, CIFAR-10 Batch 1:  Loss: 0.0127, accuracy: 0.5966\n",
      "Epoch 29, CIFAR-10 Batch 2:  Loss: 0.0004, accuracy: 0.6106\n",
      "Epoch 29, CIFAR-10 Batch 3:  Loss: 0.0020, accuracy: 0.5986\n",
      "Epoch 29, CIFAR-10 Batch 4:  Loss: 0.0028, accuracy: 0.5906\n",
      "Epoch 29, CIFAR-10 Batch 5:  Loss: 0.0013, accuracy: 0.6090\n",
      "Epoch 30, CIFAR-10 Batch 1:  Loss: 0.0011, accuracy: 0.5912\n",
      "Epoch 30, CIFAR-10 Batch 2:  Loss: 0.0001, accuracy: 0.5914\n",
      "Epoch 30, CIFAR-10 Batch 3:  Loss: 0.0009, accuracy: 0.6096\n",
      "Epoch 30, CIFAR-10 Batch 4:  Loss: 0.0013, accuracy: 0.5920\n",
      "Epoch 30, CIFAR-10 Batch 5:  Loss: 0.0010, accuracy: 0.6130\n",
      "Epoch 31, CIFAR-10 Batch 1:  Loss: 0.0027, accuracy: 0.6104\n",
      "Epoch 31, CIFAR-10 Batch 2:  Loss: 0.0002, accuracy: 0.6112\n",
      "Epoch 31, CIFAR-10 Batch 3:  Loss: 0.0010, accuracy: 0.6042\n",
      "Epoch 31, CIFAR-10 Batch 4:  Loss: 0.0043, accuracy: 0.5950\n",
      "Epoch 31, CIFAR-10 Batch 5:  Loss: 0.0016, accuracy: 0.5910\n",
      "Epoch 32, CIFAR-10 Batch 1:  Loss: 0.0021, accuracy: 0.6086\n",
      "Epoch 32, CIFAR-10 Batch 2:  Loss: 0.0009, accuracy: 0.6066\n",
      "Epoch 32, CIFAR-10 Batch 3:  Loss: 0.0048, accuracy: 0.6100\n",
      "Epoch 32, CIFAR-10 Batch 4:  Loss: 0.0019, accuracy: 0.6016\n",
      "Epoch 32, CIFAR-10 Batch 5:  Loss: 0.0008, accuracy: 0.5972\n",
      "Epoch 33, CIFAR-10 Batch 1:  Loss: 0.0032, accuracy: 0.6036\n",
      "Epoch 33, CIFAR-10 Batch 2:  Loss: 0.0023, accuracy: 0.5996\n",
      "Epoch 33, CIFAR-10 Batch 3:  Loss: 0.0007, accuracy: 0.5988\n",
      "Epoch 33, CIFAR-10 Batch 4:  Loss: 0.0087, accuracy: 0.6036\n",
      "Epoch 33, CIFAR-10 Batch 5:  Loss: 0.0005, accuracy: 0.6076\n",
      "Epoch 34, CIFAR-10 Batch 1:  Loss: 0.0086, accuracy: 0.6034\n",
      "Epoch 34, CIFAR-10 Batch 2:  Loss: 0.0001, accuracy: 0.6040\n",
      "Epoch 34, CIFAR-10 Batch 3:  Loss: 0.0017, accuracy: 0.6110\n",
      "Epoch 34, CIFAR-10 Batch 4:  Loss: 0.0005, accuracy: 0.5970\n",
      "Epoch 34, CIFAR-10 Batch 5:  Loss: 0.0007, accuracy: 0.6124\n",
      "Epoch 35, CIFAR-10 Batch 1:  Loss: 0.0720, accuracy: 0.6036\n",
      "Epoch 35, CIFAR-10 Batch 2:  Loss: 0.0017, accuracy: 0.6060\n",
      "Epoch 35, CIFAR-10 Batch 3:  Loss: 0.0004, accuracy: 0.6028\n",
      "Epoch 35, CIFAR-10 Batch 4:  Loss: 0.0025, accuracy: 0.6044\n",
      "Epoch 35, CIFAR-10 Batch 5:  Loss: 0.0011, accuracy: 0.6096\n",
      "Epoch 36, CIFAR-10 Batch 1:  Loss: 0.0015, accuracy: 0.6042\n",
      "Epoch 36, CIFAR-10 Batch 2:  Loss: 0.0003, accuracy: 0.6104\n",
      "Epoch 36, CIFAR-10 Batch 3:  Loss: 0.0051, accuracy: 0.6060\n",
      "Epoch 36, CIFAR-10 Batch 4:  Loss: 0.0115, accuracy: 0.5970\n",
      "Epoch 36, CIFAR-10 Batch 5:  Loss: 0.0008, accuracy: 0.6090\n",
      "Epoch 37, CIFAR-10 Batch 1:  Loss: 0.0041, accuracy: 0.6036\n",
      "Epoch 37, CIFAR-10 Batch 2:  Loss: 0.0059, accuracy: 0.6052\n",
      "Epoch 37, CIFAR-10 Batch 3:  Loss: 0.0014, accuracy: 0.6060\n",
      "Epoch 37, CIFAR-10 Batch 4:  Loss: 0.0015, accuracy: 0.6088\n",
      "Epoch 37, CIFAR-10 Batch 5:  Loss: 0.0030, accuracy: 0.6162\n",
      "Epoch 38, CIFAR-10 Batch 1:  Loss: 0.0011, accuracy: 0.6056\n",
      "Epoch 38, CIFAR-10 Batch 2:  Loss: 0.0005, accuracy: 0.5850\n",
      "Epoch 38, CIFAR-10 Batch 3:  Loss: 0.0009, accuracy: 0.6120\n",
      "Epoch 38, CIFAR-10 Batch 4:  Loss: 0.0014, accuracy: 0.6034\n",
      "Epoch 38, CIFAR-10 Batch 5:  Loss: 0.0002, accuracy: 0.6138\n",
      "Epoch 39, CIFAR-10 Batch 1:  Loss: 0.0012, accuracy: 0.6078\n",
      "Epoch 39, CIFAR-10 Batch 2:  Loss: 0.0013, accuracy: 0.6084\n",
      "Epoch 39, CIFAR-10 Batch 3:  Loss: 0.0012, accuracy: 0.6064\n",
      "Epoch 39, CIFAR-10 Batch 4:  Loss: 0.0001, accuracy: 0.6152\n",
      "Epoch 39, CIFAR-10 Batch 5:  Loss: 0.0003, accuracy: 0.6126\n",
      "Epoch 40, CIFAR-10 Batch 1:  Loss: 0.0005, accuracy: 0.6048\n",
      "Epoch 40, CIFAR-10 Batch 2:  Loss: 0.0022, accuracy: 0.5932\n",
      "Epoch 40, CIFAR-10 Batch 3:  Loss: 0.0012, accuracy: 0.6124\n",
      "Epoch 40, CIFAR-10 Batch 4:  Loss: 0.0006, accuracy: 0.6098\n",
      "Epoch 40, CIFAR-10 Batch 5:  Loss: 0.0021, accuracy: 0.6096\n",
      "Epoch 41, CIFAR-10 Batch 1:  Loss: 0.0011, accuracy: 0.6014\n",
      "Epoch 41, CIFAR-10 Batch 2:  Loss: 0.0004, accuracy: 0.5980\n",
      "Epoch 41, CIFAR-10 Batch 3:  Loss: 0.0014, accuracy: 0.5956\n",
      "Epoch 41, CIFAR-10 Batch 4:  Loss: 0.0010, accuracy: 0.5998\n",
      "Epoch 41, CIFAR-10 Batch 5:  Loss: 0.0004, accuracy: 0.6058\n",
      "Epoch 42, CIFAR-10 Batch 1:  Loss: 0.0011, accuracy: 0.5916\n",
      "Epoch 42, CIFAR-10 Batch 2:  Loss: 0.0021, accuracy: 0.5790\n",
      "Epoch 42, CIFAR-10 Batch 3:  Loss: 0.0008, accuracy: 0.6038\n",
      "Epoch 42, CIFAR-10 Batch 4:  Loss: 0.0014, accuracy: 0.6010\n",
      "Epoch 42, CIFAR-10 Batch 5:  Loss: 0.0018, accuracy: 0.5956\n",
      "Epoch 43, CIFAR-10 Batch 1:  Loss: 0.0004, accuracy: 0.6050\n",
      "Epoch 43, CIFAR-10 Batch 2:  Loss: 0.0001, accuracy: 0.6070\n",
      "Epoch 43, CIFAR-10 Batch 3:  Loss: 0.0010, accuracy: 0.6088\n",
      "Epoch 43, CIFAR-10 Batch 4:  Loss: 0.0028, accuracy: 0.6106\n",
      "Epoch 43, CIFAR-10 Batch 5:  Loss: 0.0004, accuracy: 0.6052\n",
      "Epoch 44, CIFAR-10 Batch 1:  Loss: 0.0036, accuracy: 0.6132\n",
      "Epoch 44, CIFAR-10 Batch 2:  Loss: 0.0005, accuracy: 0.6048\n",
      "Epoch 44, CIFAR-10 Batch 3:  Loss: 0.0013, accuracy: 0.6150\n",
      "Epoch 44, CIFAR-10 Batch 4:  Loss: 0.0014, accuracy: 0.6070\n",
      "Epoch 44, CIFAR-10 Batch 5:  Loss: 0.0003, accuracy: 0.6166\n",
      "Epoch 45, CIFAR-10 Batch 1:  Loss: 0.0002, accuracy: 0.6126\n",
      "Epoch 45, CIFAR-10 Batch 2:  Loss: 0.0023, accuracy: 0.5924\n",
      "Epoch 45, CIFAR-10 Batch 3:  Loss: 0.0003, accuracy: 0.6098\n",
      "Epoch 45, CIFAR-10 Batch 4:  Loss: 0.0022, accuracy: 0.6038\n",
      "Epoch 45, CIFAR-10 Batch 5:  Loss: 0.0011, accuracy: 0.6092\n",
      "Epoch 46, CIFAR-10 Batch 1:  Loss: 0.0002, accuracy: 0.6090\n",
      "Epoch 46, CIFAR-10 Batch 2:  Loss: 0.0026, accuracy: 0.6032\n",
      "Epoch 46, CIFAR-10 Batch 3:  Loss: 0.0009, accuracy: 0.6052\n",
      "Epoch 46, CIFAR-10 Batch 4:  Loss: 0.0007, accuracy: 0.6018\n",
      "Epoch 46, CIFAR-10 Batch 5:  Loss: 0.0001, accuracy: 0.6144\n",
      "Epoch 47, CIFAR-10 Batch 1:  Loss: 0.0013, accuracy: 0.6090\n",
      "Epoch 47, CIFAR-10 Batch 2:  Loss: 0.0040, accuracy: 0.6102\n",
      "Epoch 47, CIFAR-10 Batch 3:  Loss: 0.0010, accuracy: 0.6108\n",
      "Epoch 47, CIFAR-10 Batch 4:  Loss: 0.0008, accuracy: 0.6052\n",
      "Epoch 47, CIFAR-10 Batch 5:  Loss: 0.0006, accuracy: 0.6152\n",
      "Epoch 48, CIFAR-10 Batch 1:  Loss: 0.0005, accuracy: 0.6128\n",
      "Epoch 48, CIFAR-10 Batch 2:  Loss: 0.0007, accuracy: 0.5966\n",
      "Epoch 48, CIFAR-10 Batch 3:  Loss: 0.0005, accuracy: 0.6134\n",
      "Epoch 48, CIFAR-10 Batch 4:  Loss: 0.0003, accuracy: 0.6104\n",
      "Epoch 48, CIFAR-10 Batch 5:  Loss: 0.0011, accuracy: 0.5994\n",
      "Epoch 49, CIFAR-10 Batch 1:  Loss: 0.0006, accuracy: 0.6120\n",
      "Epoch 49, CIFAR-10 Batch 2:  Loss: 0.0003, accuracy: 0.6020\n",
      "Epoch 49, CIFAR-10 Batch 3:  Loss: 0.0003, accuracy: 0.6142\n",
      "Epoch 49, CIFAR-10 Batch 4:  Loss: 0.0023, accuracy: 0.6018\n",
      "Epoch 49, CIFAR-10 Batch 5:  Loss: 0.0030, accuracy: 0.6012\n",
      "Epoch 50, CIFAR-10 Batch 1:  Loss: 0.0006, accuracy: 0.5930\n",
      "Epoch 50, CIFAR-10 Batch 2:  Loss: 0.0003, accuracy: 0.6124\n",
      "Epoch 50, CIFAR-10 Batch 3:  Loss: 0.0004, accuracy: 0.6050\n",
      "Epoch 50, CIFAR-10 Batch 4:  Loss: 0.0040, accuracy: 0.6084\n",
      "Epoch 50, CIFAR-10 Batch 5:  Loss: 0.0010, accuracy: 0.6088\n"
     ]
    }
   ],
   "source": [
    "save_model_path = './image_classification'\n",
    "\n",
    "print('Training...')\n",
    "with tf.Session() as sess:\n",
    "    # Initializing the variables\n",
    "    sess.run(tf.global_variables_initializer())\n",
    "    \n",
    "    # Training cycle\n",
    "    for epoch in range(epochs):\n",
    "        # Loop over all batches\n",
    "        n_batches = 5\n",
    "        for batch_i in range(1, n_batches + 1):\n",
    "            for batch_features, batch_labels in helper.load_preprocess_training_batch(batch_i, batch_size):\n",
    "                train_neural_network(sess, optimizer, keep_probability, batch_features, batch_labels)\n",
    "            print('Epoch {:>2}, CIFAR-10 Batch {}:  '.format(epoch + 1, batch_i), end='')\n",
    "            print_stats(sess, batch_features, batch_labels, cost, accuracy)\n",
    "            \n",
    "    # Save Model\n",
    "    saver = tf.train.Saver()\n",
    "    save_path = saver.save(sess, save_model_path)"
   ]
  },
  {
   "cell_type": "markdown",
   "metadata": {},
   "source": [
    "# Checkpoint\n",
    "The model has been saved to disk.\n",
    "## Test Model\n",
    "Let's test our model against the test dataset.  This will be the final accuracy."
   ]
  },
  {
   "cell_type": "code",
   "execution_count": 37,
   "metadata": {},
   "outputs": [
    {
     "name": "stdout",
     "output_type": "stream",
     "text": [
      "INFO:tensorflow:Restoring parameters from ./image_classification\n",
      "Testing Accuracy: 0.6023536392405063\n",
      "\n"
     ]
    },
    {
     "data": {
      "image/png": "[encoded data removed]",
      "text/plain": [
       "<matplotlib.figure.Figure at 0x7f304c1360f0>"
      ]
     },
     "metadata": {
      "image/png": {
       "height": 319,
       "width": 355
      }
     },
     "output_type": "display_data"
    }
   ],
   "source": [
    "%matplotlib inline\n",
    "%config InlineBackend.figure_format = 'retina'\n",
    "\n",
    "import tensorflow as tf\n",
    "import pickle\n",
    "import helper\n",
    "import random\n",
    "\n",
    "# Set batch size if not already set\n",
    "try:\n",
    "    if batch_size:\n",
    "        pass\n",
    "except NameError:\n",
    "    batch_size = 64\n",
    "\n",
    "save_model_path = './image_classification'\n",
    "n_samples = 4\n",
    "top_n_predictions = 3\n",
    "\n",
    "def test_model():\n",
    "    \"\"\"\n",
    "    Test the saved model against the test dataset\n",
    "    \"\"\"\n",
    "\n",
    "    test_features, test_labels = pickle.load(open('preprocess_training.p', mode='rb'))\n",
    "    loaded_graph = tf.Graph()\n",
    "\n",
    "    with tf.Session(graph=loaded_graph) as sess:\n",
    "        # Load model\n",
    "        loader = tf.train.import_meta_graph(save_model_path + '.meta')\n",
    "        loader.restore(sess, save_model_path)\n",
    "\n",
    "        # Get Tensors from loaded model\n",
    "        loaded_x = loaded_graph.get_tensor_by_name('x:0')\n",
    "        loaded_y = loaded_graph.get_tensor_by_name('y:0')\n",
    "        loaded_keep_prob = loaded_graph.get_tensor_by_name('keep_prob:0')\n",
    "        loaded_logits = loaded_graph.get_tensor_by_name('logits:0')\n",
    "        loaded_acc = loaded_graph.get_tensor_by_name('accuracy:0')\n",
    "        \n",
    "        # Get accuracy in batches for memory limitations\n",
    "        test_batch_acc_total = 0\n",
    "        test_batch_count = 0\n",
    "        \n",
    "        for train_feature_batch, train_label_batch in helper.batch_features_labels(test_features, test_labels, batch_size):\n",
    "            test_batch_acc_total += sess.run(\n",
    "                loaded_acc,\n",
    "                feed_dict={loaded_x: train_feature_batch, loaded_y: train_label_batch, loaded_keep_prob: 1.0})\n",
    "            test_batch_count += 1\n",
    "\n",
    "        print('Testing Accuracy: {}\\n'.format(test_batch_acc_total/test_batch_count))\n",
    "\n",
    "        # Print Random Samples\n",
    "        random_test_features, random_test_labels = tuple(zip(*random.sample(list(zip(test_features, test_labels)), n_samples)))\n",
    "        random_test_predictions = sess.run(\n",
    "            tf.nn.top_k(tf.nn.softmax(loaded_logits), top_n_predictions),\n",
    "            feed_dict={loaded_x: random_test_features, loaded_y: random_test_labels, loaded_keep_prob: 1.0})\n",
    "        helper.display_image_predictions(random_test_features, random_test_labels, random_test_predictions)\n",
    "\n",
    "\n",
    "test_model()"
   ]
  }
 ],
 "metadata": {
  "kernelspec": {
   "display_name": "Python 3",
   "language": "python",
   "name": "python3"
  },
  "language_info": {
   "codemirror_mode": {
    "name": "ipython",
    "version": 3
   },
   "file_extension": ".py",
   "mimetype": "text/x-python",
   "name": "python",
   "nbconvert_exporter": "python",
   "pygments_lexer": "ipython3",
   "version": "3.5.3"
  }
 },
 "nbformat": 4,
 "nbformat_minor": 1
}
